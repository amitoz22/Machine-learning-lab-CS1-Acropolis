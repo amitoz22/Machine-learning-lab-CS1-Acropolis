Python fundamentals
print() function
print("Acropolis")

Comments
In [1]:
# First Program
print("Acropolis")
Acropolis
Variables
In [3]:
# In Python there is no need to mention the data type

var1 = 20      # An integer assignment
var2 = 4.123   # A floating point
var3 = "India" # A string

print(var1,' ',var2,' ',var3)
20   4.123   India
Assignment
In [6]:
# general syntax
#variable-name=value

# Assigning same value to multiple variables

var1 = var2 = var3 = 1
print(var1,' ',var2,' ',var3)

# Assigning Different values to variable in a single expression

var1, var2, var3 = 1, 2.5, "Sachin"
print(var1,' ',var2,' ',var3)

# Note: commas can be used for multi-assignments
1   1   1
1   2.5   Sachin
Taking input
In [0]:
firstname = input("Enter your first name: ")
lastname = input("Enter your second name: ")
semester = input("Enter your semester: ")
In [0]:
# run below code
age = input("Enter your age: ")
age = int(age)+5
print(age)
Write a program in Python for data type conversion from:
int to string
int to float
string to int
string to float
float to int
float to string
In [7]:
a=10
print(str(a))
print(float(a))

b='20'
print(int(b))
print(float(b))

c=23.56
#write code here to convert float into integer
print(int(c))
#write code here to convert float into string
10
10.0
20
20.0
23
Task1:
WAP to display your infomation like (full name, branch, university name, age, 12th %, hobbies). Store each value into some meaningful variable. the ouptput of the program should look like
My name is : I am in CSE branch at (College/University) : I am 18 year old
My Higher Secondary % is : My hobbies are :

In [10]:
# write your code after this line
fullname=input("Enter fullname: ")
branch=input("Enter branch: ")
university=input("Enter university: ")
age=input("Enter age: ")
twelvethper=input("Enter twelvethper: ")
hobbies=input("Enter hobbies: ")
print(fullname,branch,university,age,twelvethper,hobbies)
Enter fullname: Aditya Dilliwal
Enter branch: cs
Enter university: rgpv
Enter age: 20
Enter twelvethper: 76
Enter hobbies: swimming
Aditya Dilliwal cs rgpv 20 76 swimming
Commmonly used functions
round(n)
format(n, '0.2f')
format(n,',') # put a comma on thousand place
format(n,'b') # print binary of the number, 'o', 'x'

eval(expression)

chr(n)
ord(character)
bin(n), oct(n), hex(n)

#### function on string/character data

isdigit()
isalpha()
isspace()
numeric()
ljust(width)
rjust(width)
cjust(width)
In [11]:
# Python3 program to demonstarte 
# the str.format() method 
  
# using format option in a simple string 
print ("{}, A computer science portal for acropolis."
                        .format("acropolis")) 
  
# using format option for a 
# value stored in a variable 
str = "This article is written in {}"
print (str.format("Python")) 
  
# formatting a string using a numeric constant 
print ("Hello, I am {} years old !".format(18))
acropolis, A computer science portal for acropolis.
This article is written in Python
Hello, I am 18 years old !
In [12]:
# Characters and their ASCII value

x=68
# print character corresponding to x 
print(chr(x))
char='D'
# print number corresponding to char
print(ord(char))
D
68
In [13]:
# write code to print your name 10 times
print('ACROPOLIS'*10)
ACROPOLISACROPOLISACROPOLISACROPOLISACROPOLISACROPOLISACROPOLISACROPOLISACROPOLISACROPOLIS
In [14]:
for i in range(5):
    print("*"*i)
*
**
***
****
In [15]:
# use seperator and end with specific symbol
a, b, c = 10, 20, 30
print(a,b,c,sep=':',end=',')
10:20:30,
In [16]:
for i in range(1,5):
    print(" "*(5-i),"*"*i)
     *
    **
   ***
  ****
In [33]:
# unpack characters
word = 'PYTHON'
a,b,c,d,e,f= word
print(a,b,c,d,e,f)
P Y T H O N
Format output
In [17]:
x = 5 
y = 10
print('The value of x is {} and y is {}'.format(x,y))
The value of x is 5 and y is 10
In [18]:
print('I like {0} and {1}'.format('ice cream','chocolate'))
I like ice cream and chocolate
In [19]:
print('I like {1} and {0}'.format('ice cream','chocolate'))
I like chocolate and ice cream
In [20]:
print('Hello {name}, {greeting}'.format(greeting = 'Good morning', name = 'Sachin !'))
Hello Sachin !, Good morning
Task2
Raman likes tea but he has coffee. Riya likes coffee but has tea. Write a program in python so that both can enjoy what they like.
In [32]:
# write your code after this line
raman='coffee'
riya='tea'
temp=raman
raman=riya
riya=temp
print(' raman after swapping: {}'.format(raman))
print(' riya after swapping: {}'.format(riya))
 raman after swapping: tea
 riya after swapping: coffee
Task3
Write a program for following

Input: 'Python'
Output: 642
In [23]:
# write your code after this line
a,b,c,d,e,f='Python'
s=ord(a)+ord(b)+ord(c)+ord(d)+ord(e)+ord(f)
print(s)
642
Working with math, calendar, random, datetime
In [24]:
import math
print(math.sqrt(25))
#math.floor(10.8)
#math.ceil(10.5) 
math.pi
5.0
Out[24]:
3.141592653589793
In [25]:
import random
x = random.random() # generate any random number between 0 and 1
print("x = ", x)

y = random.randint(5,20)# generate any random number between 5 and 20
print("y = ", y)
x =  0.24814580948114262
y =  6
In [26]:
import datetime

date = datetime.datetime.now().date() # YYYY-MM-DD format
year = datetime.datetime.now().year
month = datetime.datetime.now().month
day = datetime.datetime.now().day

print(date)
print(year)
print(month)
print(day)
2020-01-06
2020
1
6
In [29]:
import calendar

year = int(input("Enter Year : "))
month = int(input("Enter the Month : "))

print(calendar.month(year, month))
Enter Year : 1974
Enter the Month : 6
     June 1974
Mo Tu We Th Fr Sa Su
                1  2
 3  4  5  6  7  8  9
10 11 12 13 14 15 16
17 18 19 20 21 22 23
24 25 26 27 28 29 30

Task 4
WAP to justify the value of a number (right, left, center) in 20 chars with one digit accuracy. Use format() to print value of variable z (float) right justify in 30 chars with 3 digit accuracy.
In [28]:
x=15246.59
y=14.156
print(format(x,'>20.1f'))
print(format(y,'>20.1f'))

print(format(x,'<20.1f'))
print(format(y,'<20.1f'))

print(format(x,'^20.1f'))
print(format(y,'^20.1f'))
z=20.745124

#write your code here
             15246.6
                14.2
15246.6             
14.2                
      15246.6       
        14.2        
