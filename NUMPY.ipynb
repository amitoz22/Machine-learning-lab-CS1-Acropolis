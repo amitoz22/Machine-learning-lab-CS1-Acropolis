In [1]:
my_list = [1,2,3]
import numpy as np
arr = np.array(my_list)
print("Type/Class of this object:",type(arr))
print("Here is the vector\n--------------------\n",arr)
Type/Class of this object: <class 'numpy.ndarray'>
Here is the vector
--------------------
 [1 2 3]
In [3]:
my_mat = [[1,2,3],[4,5,6],[7,8,9]]
mat = np.array(my_mat)
print("Type/Class of this object:",type(mat))
print("Here is the matrix\n----------\n",mat,"\n----------")
print("Dimension of this matrix: ",mat.ndim,sep='') #ndim gives the dimensison, 2 for a matrix, 1 for a vector
print("Size of this matrix: ", mat.size,sep='') #size gives the total number of elements
print("Shape of this matrix: ", mat.shape,sep='') #shape gives the number of elements along each axes (dimension)
print("Data type of this matrix: ", mat.dtype,sep='') #dtype gives the data type contained in the array
Type/Class of this object: <class 'numpy.ndarray'>
Here is the matrix
----------
 [[1 2 3]
 [4 5 6]
 [7 8 9]] 
----------
Dimension of this matrix: 2
Size of this matrix: 9
Shape of this matrix: (3, 3)
Data type of this matrix: int64
In [4]:
print("A series of numbers:",np.arange(5,16)) # A series of numbers from low to high
A series of numbers: [ 5  6  7  8  9 10 11 12 13 14 15]
In [5]:
print("Numbers spaced apart by 2:",np.arange(0,11,2)) # Numbers spaced apart by 2
Numbers spaced apart by 2: [ 0  2  4  6  8 10]
In [6]:
print("Numbers spaced apart by float:",np.arange(0,11,2.5)) # Numbers spaced apart by 2.5
Numbers spaced apart by float: [ 0.   2.5  5.   7.5 10. ]
In [7]:
print("Every 5th number from 50 in reverse order\n",np.arange(50,-1,-5))
Every 5th number from 50 in reverse order
 [50 45 40 35 30 25 20 15 10  5  0]
In [8]:
print("21 linearly spaced numbers between 1 and 5\n--------------------------------------------")
print(np.linspace(1,5,21))
21 linearly spaced numbers between 1 and 5
--------------------------------------------
[1.  1.2 1.4 1.6 1.8 2.  2.2 2.4 2.6 2.8 3.  3.2 3.4 3.6 3.8 4.  4.2 4.4
 4.6 4.8 5. ]
Zeroes, Ones, empty, and Identity matriX
Indented block

In [9]:
print("Vector of zeroes\n---------------------")
print(np.zeros(5))
print("Matrix of zeroes\n--------------------")
print(np.zeros((3,4))) # Notice Tuples
Vector of zeroes
---------------------
[0. 0. 0. 0. 0.]
Matrix of zeroes
--------------------
[[0. 0. 0. 0.]
 [0. 0. 0. 0.]
 [0. 0. 0. 0.]]
In [10]:
print("Vector of ones\n---------------------")
print(np.ones(5))
print("Matrix of ones\n---------------------")
print(np.ones((5,2))) # Note matrix dimension specified by Tuples
print("Matrix of 5's\n---------------------")
print(5*np.ones((3,5)))
Vector of ones
---------------------
[1. 1. 1. 1. 1.]
Matrix of ones
---------------------
[[1. 1.]
 [1. 1.]
 [1. 1.]
 [1. 1.]
 [1. 1.]]
Matrix of 5's
---------------------
[[5. 5. 5. 5. 5.]
 [5. 5. 5. 5. 5.]
 [5. 5. 5. 5. 5.]]
In [11]:
print("Empty matrix\n-------------\n", np.empty((4,6)))
Empty matrix
-------------
 [[1.68674486e-316 0.00000000e+000 0.00000000e+000 1.79138954e-316
  1.83748784e-316 1.83745939e-316]
 [1.79139666e-316 0.00000000e+000 1.79143223e-316 1.79137531e-316
  1.79141800e-316 1.79138243e-316]
 [1.83749259e-316 2.13558097e-316 0.00000000e+000 0.00000000e+000
  0.00000000e+000 0.00000000e+000]
 [0.00000000e+000 1.83747361e-316 1.79146069e-316 0.00000000e+000
  1.83750682e-316 0.00000000e+000]]
In [12]:
mat1 = np.eye(4) 
print("Identity matrix of dimension", mat1.shape)
print(mat1)
Identity matrix of dimension (4, 4)
[[1. 0. 0. 0.]
 [0. 1. 0. 0.]
 [0. 0. 1. 0.]
 [0. 0. 0. 1.]]
In [13]:
print("Random number generation (from Uniform distribution)")
print(np.random.rand(2,3)) # 2 by 3 matrix with random numbers ranging from 0 to 1, Note no Tuple is necessary
Random number generation (from Uniform distribution)
[[0.47707549 0.22816069 0.04712695]
 [0.26052146 0.47591308 0.87989462]]
In [14]:
print("Numbers from Normal distribution with zero mean and standard deviation 1 i.e. standard normal")
print(np.random.randn(4,3))
Numbers from Normal distribution with zero mean and standard deviation 1 i.e. standard normal
[[-1.96762098  0.85429961  1.0255725 ]
 [-0.25018346 -0.35967501  1.12389531]
 [-0.9415963  -0.42567038 -0.56544768]
 [ 0.96820896 -0.71468252  1.50694699]]
In [15]:
print("Random integer vector:",np.random.randint(1,100,10)) #randint (low, high, # of samples to be drawn)
print ("\nRandom integer matrix")
print(np.random.randint(1,100,(4,4))) #randint (low, high, # of samples to be drawn in a tuple to form a matrix)
print("\n20 samples drawn from a dice throw:",np.random.randint(1,7,20)) # 20 samples drawn from a dice throw
Random integer vector: [ 6 73 83 33 24 94 19 40 46 47]

Random integer matrix
[[59  2 76 87]
 [25 90 24 74]
 [74 81 72 52]
 [52  6 20  6]]

20 samples drawn from a dice throw: [1 2 6 5 4 2 1 4 1 4 5 2 1 1 3 3 1 1 6 1]
Reshaping, min, max, sort
In [16]:
from numpy.random import randint as ri
a = ri(1,100,30)
b = a.reshape(2,3,5)
c = a.reshape(6,5)
print ("Shape of a:", a.shape)
print ("Shape of b:", b.shape)
print ("Shape of c:", c.shape)
print("\na looks like\n",'-'*20,"\n",a,"\n",'-'*20)
print("\nb looks like\n",'-'*20,"\n",b,"\n",'-'*20)
print("\nc looks like\n",'-'*20,"\n",c,"\n",'-'*20)

A = ri(1,100,10) # Vector of random interegrs
print("\nVector of random integers\n",'-'*50,"\n",A)
print("\nHere is the sorted vector\n",'-'*50,"\n",np.sort(A, kind='mergesort'))

M = ri(1,100,25).reshape(5,5) # Matrix of random interegrs
print("\n5x5 Matrix of random integers\n",'-'*50,"\n",M)
print("\nHere is the sorted matrix along each row\n",'-'*50,"\n",np.sort(M, kind='mergesort')) # Default axis =1
print("\nHere is the sorted matrix along each column\n",'-'*50,"\n",np.sort(M, axis=0, kind='mergesort'))
Shape of a: (30,)
Shape of b: (2, 3, 5)
Shape of c: (6, 5)

a looks like
 -------------------- 
 [99 42 76 22 11 29 42 30 99 91 61 68 39 85 37 44 34 69  8 76 93 41 45 48
 37 57 10 14 57 16] 
 --------------------

b looks like
 -------------------- 
 [[[99 42 76 22 11]
  [29 42 30 99 91]
  [61 68 39 85 37]]

 [[44 34 69  8 76]
  [93 41 45 48 37]
  [57 10 14 57 16]]] 
 --------------------

c looks like
 -------------------- 
 [[99 42 76 22 11]
 [29 42 30 99 91]
 [61 68 39 85 37]
 [44 34 69  8 76]
 [93 41 45 48 37]
 [57 10 14 57 16]] 
 --------------------

Vector of random integers
 -------------------------------------------------- 
 [17 86 77 94 52 80 58 75 19 30]

Here is the sorted vector
 -------------------------------------------------- 
 [17 19 30 52 58 75 77 80 86 94]

5x5 Matrix of random integers
 -------------------------------------------------- 
 [[19 67 18 32 20]
 [84 40 77 97 31]
 [65 74 79 15 31]
 [60 96 62 81 59]
 [97 73 77 37 12]]

Here is the sorted matrix along each row
 -------------------------------------------------- 
 [[18 19 20 32 67]
 [31 40 77 84 97]
 [15 31 65 74 79]
 [59 60 62 81 96]
 [12 37 73 77 97]]

Here is the sorted matrix along each column
 -------------------------------------------------- 
 [[19 40 18 15 12]
 [60 67 62 32 20]
 [65 73 77 37 31]
 [84 74 77 81 31]
 [97 96 79 97 59]]
In [17]:
print("Max of a:", a.max())
print("Max of b:", b.max())
print("Max of a location:", a.argmax())
print("Max of b location:", b.argmax())
print("Max of c location:", b.argmax())
Max of a: 99
Max of b: 99
Max of a location: 0
Max of b location: 0
Max of c location: 0
In [21]:
arr = np.arange(0,11)
print("Array:",arr)
print("Element at 7th index is:", arr[7])
print("Elements from 3rd to 5th index are:", arr[3:6])
print("Elements up to 4th index are:", arr[:4])
print("Elements from last backwards are:", arr[-1::-1])
print("3 Elements from last backwards are:", arr[-1:-6:-2])

arr = np.arange(0,21,2)
print("New array:",arr)
print("Elements at 2nd, 4th, and 9th index are:", arr[[2,4,9]]) # Pass a list as a index to subset
Array: [ 0  1  2  3  4  5  6  7  8  9 10]
Element at 7th index is: 7
Elements from 3rd to 5th index are: [3 4 5]
Elements up to 4th index are: [0 1 2 3]
Elements from last backwards are: [10  9  8  7  6  5  4  3  2  1  0]
3 Elements from last backwards are: [10  8  6]
New array: [ 0  2  4  6  8 10 12 14 16 18 20]
Elements at 2nd, 4th, and 9th index are: [ 4  8 18]
In [19]:
mat = np.array(ri(10,100,15)).reshape(3,5)
print("Matrix of random 2-digit numbers\n--------------------------------\n",mat)

print("\nDouble bracket indexing\n------------------------")
print("Element in row index 1 and column index 2:", mat[1][2])

print("\nSingle bracket with comma indexing\n----------------------------------")
print("Element in row index 1 and column index 2:", mat[1,2])
print("\nRow or column extract\n----------------------")

print("Entire row at index 2:", mat[2])
print("Entire column at index 3:", mat[:,3])

print("\nSubsetting sub-matrices\n--------------------------")
print("Matrix with row indices 1 and 2 and column indices 3 and 4\n", mat[1:3,3:5])
print("Matrix with row indices 0 and 1 and column indices 1 and 3\n", mat[0:2,[1,3]])
Matrix of random 2-digit numbers
--------------------------------
 [[41 66 13 26 51]
 [38 86 92 62 21]
 [24 64 63 93 41]]

Double bracket indexing
------------------------
Element in row index 1 and column index 2: 92

Single bracket with comma indexing
----------------------------------
Element in row index 1 and column index 2: 92

Row or column extract
----------------------
Entire row at index 2: [24 64 63 93 41]
Entire column at index 3: [26 62 93]

Subsetting sub-matrices
--------------------------
Matrix with row indices 1 and 2 and column indices 3 and 4
 [[62 21]
 [93 41]]
Matrix with row indices 0 and 1 and column indices 1 and 3
 [[66 26]
 [86 62]]
In [20]:
mat1 = np.array(ri(1,10,9)).reshape(3,3)
mat2 = np.array(ri(1,10,9)).reshape(3,3)
print("\n1st Matrix of random single-digit numbers\n----------------------------------------\n",mat1)
print("\n2nd Matrix of random single-digit numbers\n----------------------------------------\n",mat2)

print("\nAddition\n------------------\n", mat1+mat2)
print("\nMultiplication\n------------------\n", mat1*mat2)
print("\nDivision\n------------------\n", mat1/mat2)
print("\nLineaer combination: 3*A - 2*B\n-----------------------------\n", 3*mat1-2*mat2)

print("\nAddition of a scalar (100)\n-------------------------\n", 100+mat1)

print("\nExponentiation, matrix cubed here\n----------------------------------------\n", mat1**3)
print("\nExponentiation, sq-root using pow function\n-------------------------------------------\n",pow(mat1,0.5))
1st Matrix of random single-digit numbers
----------------------------------------
 [[5 7 8]
 [1 6 4]
 [4 8 5]]

2nd Matrix of random single-digit numbers
----------------------------------------
 [[7 3 8]
 [5 5 2]
 [1 4 3]]

Addition
------------------
 [[12 10 16]
 [ 6 11  6]
 [ 5 12  8]]

Multiplication
------------------
 [[35 21 64]
 [ 5 30  8]
 [ 4 32 15]]

Division
------------------
 [[0.71428571 2.33333333 1.        ]
 [0.2        1.2        2.        ]
 [4.         2.         1.66666667]]

Lineaer combination: 3*A - 2*B
-----------------------------
 [[ 1 15  8]
 [-7  8  8]
 [10 16  9]]

Addition of a scalar (100)
-------------------------
 [[105 107 108]
 [101 106 104]
 [104 108 105]]

Exponentiation, matrix cubed here
----------------------------------------
 [[125 343 512]
 [  1 216  64]
 [ 64 512 125]]

Exponentiation, sq-root using pow function
-------------------------------------------
 [[2.23606798 2.64575131 2.82842712]
 [1.         2.44948974 2.        ]
 [2.         2.82842712 2.23606798]]
Broadcasting (super cool feature) NumPy operations are usually done on pairs of arrays on an element-by-element basis. In the simplest case, the two arrays must have exactly the same shape.

NumPy’s broadcasting rule relaxes this constraint when the arrays’ shapes meet certain constraints. When operating on two arrays, NumPy compares their shapes element-wise. It starts with the trailing dimensions, and works its way forward. Two dimensions are compatible when

they are equal, or one of them is 1 If these conditions are not met, a ValueError: frames are not aligned exception is thrown, indicating that the arrays have incompatible shapes. The size of the resulting array is the maximum size along each dimension of the input arrays.

For more detail, please look up: https://docs.scipy.org/doc/numpy-1.10.1/user/basics.broadcasting.html

In [23]:
start = np.zeros((4,3))
print(start)
[[0. 0. 0.]
 [0. 0. 0.]
 [0. 0. 0.]
 [0. 0. 0.]]
In [22]:
# create a rank 1 ndarray with 3 values
add_rows = np.array([1, 0, 2])
print(add_rows)
[1 0 2]
In [24]:
y = start + add_rows  # add to each row of 'start' using broadcasting
print(y)
[[1. 0. 2.]
 [1. 0. 2.]
 [1. 0. 2.]
 [1. 0. 2.]]
In [25]:
# create an ndarray which is 4 x 1 to broadcast across columns
add_cols = np.array([[0,1,2,3]])
add_cols = add_cols.T
print(add_cols)
[[0]
 [1]
 [2]
 [3]]
In [26]:
# add to each column of 'start' using broadcasting
y = start + add_cols 
print(y)
[[0. 0. 0.]
 [1. 1. 1.]
 [2. 2. 2.]
 [3. 3. 3.]]
In [27]:
# this will just broadcast in both dimensions
add_scalar = np.array([100])  
print(start+add_scalar)
[[100. 100. 100.]
 [100. 100. 100.]
 [100. 100. 100.]
 [100. 100. 100.]]
Linear Algebra Operations
Dot/Inner/Outer products
In [28]:
A = np.arange(1,10).reshape(3,3)
B = ri(1,10,9).reshape(3,3)
print("\n1st Matrix of 1-9 single-digit numbers (A)\n","-"*50,"\n",A)
print("\n2nd Matrix of random single-digit numbers (B)\n","-"*50,"\n",B)

print("\nDot product of A and B (for 2D arrays it is equivalent to matrix multiplication) \n","-"*80,"\n",np.dot(A,B))

A = np.arange(1,6)
B = ri(1,10,5)
print("\n1st Vector of 1-5 numbers (A)\n","-"*50,"\n",A)
print("\n2nd Vector of 5 random single-digit numbers (B)\n","-"*50,"\n",B)

print("\nInner product of vectors A and B \n","-"*50,"\n",np.inner(A,B), "(sum of all pairwise elements)")
print("\nOuter product of vectors A and B \n","-"*50,"\n",np.outer(A,B))
1st Matrix of 1-9 single-digit numbers (A)
 -------------------------------------------------- 
 [[1 2 3]
 [4 5 6]
 [7 8 9]]

2nd Matrix of random single-digit numbers (B)
 -------------------------------------------------- 
 [[1 4 7]
 [9 3 7]
 [2 9 9]]

Dot product of A and B (for 2D arrays it is equivalent to matrix multiplication) 
 -------------------------------------------------------------------------------- 
 [[ 25  37  48]
 [ 61  85 117]
 [ 97 133 186]]

1st Vector of 1-5 numbers (A)
 -------------------------------------------------- 
 [1 2 3 4 5]

2nd Vector of 5 random single-digit numbers (B)
 -------------------------------------------------- 
 [6 9 5 4 9]

Inner product of vectors A and B 
 -------------------------------------------------- 
 100 (sum of all pairwise elements)

Outer product of vectors A and B 
 -------------------------------------------------- 
 [[ 6  9  5  4  9]
 [12 18 10  8 18]
 [18 27 15 12 27]
 [24 36 20 16 36]
 [30 45 25 20 45]]
TRANSPOSE
In [29]:
A = ri(1,10,9).reshape(3,3)
print("\n3x3 Matrix of random single-digit numbers\n","-"*50,"\n",A)
print("\nMatrix transpose\n","-"*50,"\n",np.transpose(A))

B = ri(1,10,6).reshape(3,2)
print("\n3x2 Matrix of random single-digit numbers\n","-"*50,"\n",B)
print("\n2x3 Matrix transpose\n","-"*50,"\n",np.transpose(B))
print("\nMatrix multiplication of B and B-transpose\n","-"*50,"\n",np.dot(B, np.transpose(B)))
3x3 Matrix of random single-digit numbers
 -------------------------------------------------- 
 [[5 4 6]
 [8 4 4]
 [6 6 4]]

Matrix transpose
 -------------------------------------------------- 
 [[5 8 6]
 [4 4 6]
 [6 4 4]]

3x2 Matrix of random single-digit numbers
 -------------------------------------------------- 
 [[4 1]
 [8 8]
 [9 4]]

2x3 Matrix transpose
 -------------------------------------------------- 
 [[4 8 9]
 [1 8 4]]

Matrix multiplication of B and B-transpose
 -------------------------------------------------- 
 [[ 17  40  40]
 [ 40 128 104]
 [ 40 104  97]]
In [30]:
A = ri(1,10,16).reshape(4,4)
print("\n4x4 Matrix of random single-digit numbers\n","-"*50,"\n",A)
print("\nMatrix trace\n","-"*50,"\n",np.trace(A))
print("\nMatrix trace with ofset +1 (upper triangle)\n","-"*50,"\n",np.trace(A,offset=1))
print("\nMatrix trace with ofset -1 (lower triangle)\n","-"*50,"\n",np.trace(A,offset=-1))
4x4 Matrix of random single-digit numbers
 -------------------------------------------------- 
 [[2 4 2 7]
 [1 6 4 8]
 [8 8 3 7]
 [4 2 8 2]]

Matrix trace
 -------------------------------------------------- 
 13

Matrix trace with ofset +1 (upper triangle)
 -------------------------------------------------- 
 15

Matrix trace with ofset -1 (lower triangle)
 -------------------------------------------------- 
 17
Eigenvalues and eigenvectors
In [31]:
A = np.random.randn(9).reshape(3,3)
print("Original matrix\n",A)
print("\n")
w,v=np.linalg.eig(A)
print("Eigenvalues:\n",w)
print("\n")
print("Eigenvectors:\n",v)
Original matrix
 [[ 1.09291366  0.30327509  0.1196101 ]
 [ 0.14119644 -2.9519111  -0.86652062]
 [ 1.13234394  0.15976408 -0.72305243]]


Eigenvalues:
 [ 1.1366384  -0.78593352 -2.93275474]


Eigenvectors:
 [[-8.54446970e-01  8.40192443e-04  7.40711776e-02]
 [ 7.93116054e-02 -3.71391219e-01 -9.96669670e-01]
 [-5.13449165e-01  9.28476094e-01  3.41032182e-02]]
Linear equation solving, matrix inverse, linear least suqare
You can directly solve linear system of equations using NumPy writing only one line of code.

Suppose you want to solve the following set of equations for (x,y,z). It is easy to see that (2,1,5) are the unique solutions.

2x + 5y + z = 14;

3x - 2y - z = -1;

x - 3y + z = 4

In [32]:
A = np.array([[2,5,1],[3,-2,-1],[1,-3,1]])
B = np.array([14,-1,4])
x = np.linalg.solve(A,B)

print("The solutions are:",x)
The solutions are: [2. 1. 5.]
