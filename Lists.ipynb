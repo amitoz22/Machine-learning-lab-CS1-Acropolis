Lists
Lists
A list is a collection of items, that is stored in a variable.
The items should be related in some way, but there are no restrictions on what can be stored in a list.
Syntax
list-name = [list of comma seperated values]

Slicing with list
index start with 0

listname[index_number]

listname[start_index:end_index]

listname[:end_index]

listname[start_index:]

negative index: listname[:-index]

list methods
append()
len()
insert(index,value)
sort()
reverse()
pop(), pop(index)
min(), max(), sum()
We can change the contents of the lists after its creation

listname[index]=newvalue

Task 1: Run below code and try to make some changes to the code
In [1]:
# list creation
countries = ['India', 'Australia', 'USA', 'France']

# print whole list
print(countries)

# Accessing list elements
print("Value at 0 index: ",countries[0])

# assignning new value to index
countries[0]='Japan'

print("New value at index 0: ",countries[0])
['India', 'Australia', 'USA', 'France']
Value at 0 index:  India
New value at index 0:  Japan
Iterating lists
Task 2: Run below code and try to make some changes to the code
In [2]:
hybridlists=['My name is',
             'I am in',
             3,
             'Semester']

print(hybridlists)

# we can access the elements of list using loops

for item in hybridlists:
    print(item)
['My name is', 'I am in', 3, 'Semester']
My name is
I am in
3
Semester
Task 3: Run below code and try to make some changes to the code
In [3]:
# print the index number with value

countries = ['India', 'Australia', 'USA']

for index, country in enumerate(countries):
    place = str(index)
    print("Index: " + place + ", Value: " + country.title())
    
# find index of
index = countries.index('India') 
print("\n Index of India is: ",index)
Index: 0, Value: India
Index: 1, Value: Australia
Index: 2, Value: Usa

 Index of India is:  0
Task 4: Run below code and try to make some changes to the code
In [4]:
# Remove the last country from the list by index or by value
del countries[2]

print(countries)
['India', 'Australia']
List comprehension (with for loop)
Task 5: Run below code and try to make some changes to the code
In [5]:
# without comprehension

cubes = []
for x in [1, 2, 3, 4, 5]:
    cubes.append(x ** 3) 
    
print(cubes)
[1, 8, 27, 64, 125]
In [6]:
# with comprehension
  
cubes= [x**3 for x in [1, 2, 3, 4, 5]]
print(cubes)
[1, 8, 27, 64, 125]
In [7]:
numbers=[1,2,3,4,5,6,7,8,9,10]
list=[x for x in numbers]
list
Out[7]:
[1, 2, 3, 4, 5, 6, 7, 8, 9, 10]
Program 1: Write a python program which does the following
Make a list that includes four job types , such as 'programmer', 'truck driver' and so on
Use the list.index() function to find the index of one job type in your list.
Use the in function to show that this job type is in your list.
Use the append() function to add a new job type to your list.
Use the insert() function to add a new job type "Python Programmer" at the beginning of the list.
Use a loop to show all the job types in your list.
In [8]:
# start writing your code after this line
l = ["Programmer", "Truck Driver", "Chef", "Pilot"]

#First
i = l.index("Chef")
print(l[i])

#Second
if l[i] in l:
  print(l[i], " is in list l.")
else:
  print("It's not in list.")

#Third
j_type = input("Enter the job type : ")
l.append(j_type)
print(l)

#Fourth
j1_type = input("Enter the Job Type : ")
l.insert(0, j1_type)
print(l)

#Fifth
print("\n")
for i in l :
  print(i)
Chef
Chef  is in list l.
Enter the job type : programmer
['Programmer', 'Truck Driver', 'Chef', 'Pilot', 'programmer']
Enter the Job Type : chef
['chef', 'Programmer', 'Truck Driver', 'Chef', 'Pilot', 'programmer']


chef
Programmer
Truck Driver
Chef
Pilot
programmer
Problem 2: Write a python program for following
Make a list that includes the names of five famous people.
Remove each person from the list, one at a time, using the four methods given below:
Del item from the list by del: del listname[index]
Remove the item from the list by remove method: listname.remove('itemname')
Using pop() method, It removes the last item from the list: listname.pop()
Pop any item from the list by index: listname: listname.pop(index)
Print out a message that there are no famous people left in your list, and print your list to prove that it is empty.
In [9]:
# start writing your code after this line

l = ['Jhonny', 'Tom', 'Brad', 'Henry', 'Dwayne']
del l[0]
l.remove("Dwayne")
l.pop()
l.pop(0)
l.pop()
print(l)
[]
Program 3: Write a python program which does the following
Store the first ten letters of the alphabet in a list.
Use a slice to print out the first three letters of the alphabet.
Use a slice to print out any three letters from the middle of your list.
Use a slice to print out the letters from any point in the middle of your list, to the end.
In [10]:
# start writing your code after this line
l = ['A', 'B', 'C', 'D', 'E', 'F', 'G', 'H', 'I', 'J']
print(l[:3])
print(l[4:8])
n = int(input('Enter the number : '))
print(l[n:])
['A', 'B', 'C']
['E', 'F', 'G', 'H']
Enter the number : 5
['F', 'G', 'H', 'I', 'J']
Program 4: Write a python program for following
Your goal in this exercise is to prove that copying a list protects the original list.
Make a list with three people's names in it.
Use a slice to make a copy of the entire list.
Add at least two new names to the new copy of the list.
Make a loop that prints out all of the names in the original list, along with a message that this is the original list.
Make a loop that prints out all of the names in the copied list, along with a message that this is the copied list.
In [11]:
l1 = ['Elon', 'Richard', 'Gilfoyle']
l2 = l1[:]
l2.append("Dinesh")
l2.append("Erlich")
print('This is the Original List: ')
for i in l1: 
  print(i, ', ', end='')
print('\b\b\n\nThis is the Copied List: ')
for i in l2: 
  print(i, ', ', end='')
print('\b\b')
This is the Original List: 
Elon , Richard , Gilfoyle , 

This is the Copied List: 
Elon , Richard , Gilfoyle , Dinesh , Erlich , 
Program 5: Write a python program for following
Create a list to store the marks of top 15 students obtained by the students in Python Quiz held on 21/08/2018. Maximum marks=15
Print the maximum marks obtained by the student from the list.
Print the minimum marks obtained by the student.
Find the sum of all the marks.
Find the average of the marks.
Reverse the original list and display using for loop.
In [12]:
l = [14, 15, 10, 9, 7, 14, 13, 12, 11, 14, 15, 13, 11, 10, 15]
print('Maximum : ', max(l), '\nMinimum : ', min(l), '\n Sum : ', sum(l), '\n Average : ', sum(l)/15)
l = l[::-1]
print("Reverse : ", l)
Maximum :  15 
Minimum :  7 
 Sum :  183 
 Average :  12.2
Reverse :  [15, 10, 11, 13, 15, 14, 11, 12, 13, 14, 7, 9, 10, 15, 14]
Program 6: Write a program in Python to create a list which contains n integers entered by the user and delete all odd numbers from the list. Example: If initial contents of the list is=[1,2,3,4,5,6,7,8,9,10], the output would be=[2,4,6,8,10].
In [19]:
list = [56,121,74,11,]

print ("Original list:")
print (list)
for i  in list:
	if(i%2 != 0):
	    list.remove(i)
print ("list after removing ODD numbers:")
print (list)
Original list:
[56, 121, 74, 11]
list after removing ODD numbers:
[56, 74]
Optional Questions
Program 7: Write a python program for following.
Create an initial empty list named "countries"
Read the names of n countries from the user and add them to country list:
Use for loop to display all the names of the countries from the list and add "is Great" after the country name if it is "India"
In [29]:
# write code after this line
list=['Aus','India','Pak','Ger']
for _ in range(len(list)):
    if list[_] == 'India':
        print('India is Great')
        continue
    print(list[_])
Aus
India is Great
Pak
Ger
Program 8: Write a Python program to find the list in a list of lists whose sum of elements is the highest.
Sample lists: [[1,2,3], [4,5,6], [10,11,12], [7,8,9]] Expected Output: [10, 11, 12]

In [22]:
l = [[1,2,3], [4,5,6], [10,11,12], [7,8,9]]
print(max(l))
[10, 11, 12]
