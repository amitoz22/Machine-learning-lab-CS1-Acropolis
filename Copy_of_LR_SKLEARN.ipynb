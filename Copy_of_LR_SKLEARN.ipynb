In [0]:
import pandas as pd
import numpy as np
import matplotlib.pyplot as plt
PREPARING THE DATASET

In [2]:
# intialise data of lists. 
data = {'passenger':[892,893,894,895,896,897,898,899,900,901,902,903,904,905,905,906,907,908,909,910], 
        'Scores':[0,1,0,0,1,0,1,0,1,0,0,0,1,0,1,1,0,0,1,0]} 
  
# Create DataFrame 
passenger = pd.DataFrame(data) 
  
# Print the output. 
print(passenger)
    passenger  Scores
0         892       0
1         893       1
2         894       0
3         895       0
4         896       1
5         897       0
6         898       1
7         899       0
8         900       1
9         901       0
10        902       0
11        903       0
12        904       1
13        905       0
14        905       1
15        906       1
16        907       0
17        908       0
18        909       1
19        910       0
SEPARATING THE DEPENDENT AND INDEPENDENT VARIABLES

In [0]:
X = passenger.iloc[ : ,   : 1 ].values
Y = passenger.iloc[ : , 1 ].values
In [7]:
Y
Out[7]:
array([0, 1, 0, 0, 1, 0, 1, 0, 1, 0, 0, 0, 1, 0, 1, 1, 0, 0, 1, 0])
SPLITTING THE DATASET INTO TRAIN AND TEST SETS

In [0]:
from sklearn.model_selection import train_test_split
X_train, X_test, Y_train, Y_test = train_test_split( X, Y, test_size = 1/2, random_state = 0)
In [9]:
X_test
Out[9]:
array([[909],
       [893],
       [910],
       [900],
       [902],
       [908],
       [898],
       [905],
       [896],
       [894]])
In [10]:
X_train
Out[10]:
array([[897],
       [905],
       [901],
       [899],
       [907],
       [903],
       [895],
       [892],
       [906],
       [904]])
In [0]:

In [0]:
from sklearn.linear_model import LinearRegression
regressor = LinearRegression()
regressor = regressor.fit(X_train, Y_train)
In [0]:
Y_pred = regressor.predict(X_test)
In [18]:
plt.plot(X_train , regressor.predict(X_train), color ='yellow')
Out[18]:
[<matplotlib.lines.Line2D at 0x7f785c33c240>]

In [17]:
plt.scatter(X_train , Y_train, color = 'green')
Out[17]:
<matplotlib.collections.PathCollection at 0x7f785c3d5518>

In [19]:
plt.scatter(X_test , Y_test, color = 'red')
plt.plot(X_test , regressor.predict(X_test), color ='blue')
Out[19]:
[<matplotlib.lines.Line2D at 0x7f785c2fe630>]

In [20]:
from sklearn.metrics import mean_squared_error, r2_score
import math
print(mean_squared_error(Y_test, Y_pred))
print(r2_score(Y_test, Y_pred))
0.5074895097682538
-1.0299580390730152
In [0]:
