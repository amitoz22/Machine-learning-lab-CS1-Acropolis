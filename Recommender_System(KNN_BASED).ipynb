In [1]:
!pip install surprise
Collecting surprise
  Downloading https://files.pythonhosted.org/packages/61/de/e5cba8682201fcf9c3719a6fdda95693468ed061945493dea2dd37c5618b/surprise-0.1-py2.py3-none-any.whl
Collecting scikit-surprise
  Downloading https://files.pythonhosted.org/packages/f5/da/b5700d96495fb4f092be497f02492768a3d96a3f4fa2ae7dea46d4081cfa/scikit-surprise-1.1.0.tar.gz (6.4MB)
     |████████████████████████████████| 6.5MB 4.5MB/s 
Requirement already satisfied: joblib>=0.11 in /usr/local/lib/python3.6/dist-packages (from scikit-surprise->surprise) (0.14.1)
Requirement already satisfied: numpy>=1.11.2 in /usr/local/lib/python3.6/dist-packages (from scikit-surprise->surprise) (1.18.2)
Requirement already satisfied: scipy>=1.0.0 in /usr/local/lib/python3.6/dist-packages (from scikit-surprise->surprise) (1.4.1)
Requirement already satisfied: six>=1.10.0 in /usr/local/lib/python3.6/dist-packages (from scikit-surprise->surprise) (1.12.0)
Building wheels for collected packages: scikit-surprise
  Building wheel for scikit-surprise (setup.py) ... done
  Created wheel for scikit-surprise: filename=scikit_surprise-1.1.0-cp36-cp36m-linux_x86_64.whl size=1678141 sha256=f6a191f12f7e29944ad0a8f24e3e6d31ae51f236e90dba5cb1b079922b592d20
  Stored in directory: /root/.cache/pip/wheels/cc/fa/8c/16c93fccce688ae1bde7d979ff102f7bee980d9cfeb8641bcf
Successfully built scikit-surprise
Installing collected packages: scikit-surprise, surprise
Successfully installed scikit-surprise-1.1.0 surprise-0.1
In [4]:
from surprise import KNNBasic
from surprise import Dataset
from surprise import Reader
import pandas as pd
movies =['star wars','star wars','got','got','south park', 'star wars', 'harry potter', 'harry potter']
rating =[1,5,1,3,5,3,5,5]
users =['kim','tim','nim','sim','dim','lim','mim','bim',]
rating_dict={'user':users,'item':movies, 'rating':rating}
def FriendRecommender(user):
  df=pd.DataFrame(rating_dict)
  reader=Reader(rating_scale=(1,5))
  data=Dataset.load_from_df(df[['user','item','rating']], reader)
  trainset=data.build_full_trainset()
  sim_options={'name':'cosine',
               'user_based':True}
  algo=KNNBasic(sim_options)
  algo.fit(trainset)
  uid=trainset.to_inner_uid(user)
  pred=algo.get_neighbors(uid,3)
  for i in pred:
    print(trainset.to_raw_uid(i))

FriendRecommender('kim')
Computing the msd similarity matrix...
Done computing similarity matrix.
lim
tim
nim
knn is non parameters that means it doesnt make any aasumption is an underline data distribution it is instance based module never .it does memorize training instance set of level objects, distance blw object,value of k. distance may be euclidian dist,Minkowski, Hamming,cosine,Mahalnobis,Manhation.
