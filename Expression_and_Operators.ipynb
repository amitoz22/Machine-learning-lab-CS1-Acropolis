Expressions, Operators, Control statements
Operators
Arithmetic (+, -, *, /, //, %)
Relational (<, >, <=, >=, !=, ==)
Shift (>>, <<)
Assignment (=)
Logical (and, or, not)
Bitwise (&, |, !)
'in' and 'not in' operator
<< and >>
if n=8 (1000 in binary), n>>1 will give 100 after shifting bits by 1 place to right. n<<1 will give 10000 after shifting bits by 1 place to left.

In [1]:
n=9
print(n,'binary',format(n,'b'))
print(n,'* 2=',n<<1, format(n<<1,'b'))
print(n,'/ 2=',n>>1,format(n>>1,'b'))
9 binary 1001
9 * 2= 18 10010
9 / 2= 4 100
In [2]:
# logical
x = True
y = False
print('x and y is',x and y) # Output: x and y is False
print('x or y is',x or y) # Output: x or y is True
print('not x is',not x) # Output: not x is False
x and y is False
x or y is True
not x is False
In [3]:
# bitwise
x=12 
y=4
print(x & y) 
print(x | y)
print(x ^ y)
4
12
8
In [4]:
# in and not in

x = 'Hello world'
print('H' in x)    # Output: True
print('h' not in x)   # Output: True
True
True
In [5]:
# perform operations on complex numbers

import cmath
a=complex(20+5j)
b=complex(5+3j)
print('a+b',a+b)
print('a-b',a-b)
print('a*b',a*b)
print('a/b',a/b)
a+b (25+8j)
a-b (15+2j)
a*b (85+85j)
a/b (3.3823529411764706-1.0294117647058825j)
In [0]:

Task1 Write a program in python to calculate area of triangle when all three sides are given.
s=(a+b+c)/2
area = √(s(s-a)(s-b)(s-c) )
In [6]:
# write your code after this line
import math
length=int(input("Enter lenght of triangle"))
breadth=int(input("Enter Breadth of triangle"))
height=int(input("Enter height of triangle"))
s=(length+breadth+height)/2
area=(s*(s-height)*(s-length)*(s-breadth))
m=abs(area)
areaf=math.sqrt(m)
print(areaf)
Enter lenght of triangle6
Enter Breadth of triangle2
Enter height of triangle3
4.905354217587146
Control Statements
Decisions (if-else)
simple if-else
if(cond): stmt else: stmt

if-else-if
if(cond): stmt elif(cond): stmt . . . else: stmt

nested if-else
                        if(cond):
                            stmt
                            if(cond):
                                stmt1
                        else:
                            if(cond):
                                stmt3
                            else:
                                stmt4
Task2: Write a proram that accept a lowercase/uppercase character from the user and check whether the character is a vowel or consonant.
In [7]:
# write your code after this line
ch=input("Enter a letter ")
if(ch == 'a' or ch == 'e' or ch == 'i' or ch == 'o' or ch == 'u' or ch == 'A'
       or ch == 'E' or ch == 'I' or ch == 'O' or ch == 'U'):
  print("Character entered is Vowel ")
else:
  print("Character is consonant ")
Enter a letter a
Character entered is Vowel 
Task3: Write a program to check whether given character is a digit or a character in lowercase or uppercase alphabet. Hint: ASCII value of digit is between 48 to 58 and Lowercase characters in the range of 97 to122, uppercase is between 65 and 90).
In [11]:
# write your code after this line
ch=input("Enter a digit(ASCII) or character") 
if (ch>='48' and ch<='58'):
  print("Its a digit")
if(ch>='97' and ch<='122'):
  print("Character is lowercase")
if(ch>='65' and ch<='90'):
  print("Character is uppercase")
Enter a digit(ASCII) or character56
Its a digit
Repetition or loop
while loop
for loop
While loop
initialization of loop variable while( condition ): stmt 1 stmt 2 ... update loop variable

Task 4: Write a program in Python to print table of any number 'n' provided by user using while loop.
In [12]:
# write your code after this line
n = int(input("Enter any number : "))
for i in range(1, 11):
  print(n," x ", i, " = ", n*i)
Enter any number : 25
25  x  1  =  25
25  x  2  =  50
25  x  3  =  75
25  x  4  =  100
25  x  5  =  125
25  x  6  =  150
25  x  7  =  175
25  x  8  =  200
25  x  9  =  225
25  x  10  =  250
Task 5: Write a program in Python to evaluate the following series using while loop:
1! + 2! + 3! + 4! ...+ n!
hint: use math.factorial(n) function to calculate factorial of number n.

In [13]:
import math
Sum=0
j=int(input("enter any number:"))
for i in range(1,j+1):
  fact=math.factorial(i)
  Sum += fact
  
print("sum of series is:", Sum)
enter any number:45
sum of series is: 122342346998826717539665299944651784048588130840420940313
In [14]:
# write your code after this line
n, fact = int(input("Enter the number : ")), 1
for i in range(1,n+1):
  fact *= i
print("Factorial        :",fact)
Enter the number : 85
Factorial        : 281710411438055027694947944226061159480056634330574206405101912752560026159795933451040286452340924018275123200000000000000000000
Task 6: Write a program in Python to enter the numbers till the user wants and at the end it should display the maximum number entered using while loop.
In [15]:
# write your code after this line
check, l = 'Y', []
while(check == 'Y' or check == 'y'):
  n = int(input("Enter the number : "))
  l.append(n)
  check = input("Do you want to enter more numbers??(Y/N) : ")
  if check == 'N' or check == 'n':
    break

print("Maximum number :", max(l))
Enter the number : 12
Do you want to enter more numbers??(Y/N) : y
Enter the number : 56
Do you want to enter more numbers??(Y/N) : n
Maximum number : 56
for loop
for iterable_var_name in range(terminating_value): stmt 1 stmt 2 ...

for iterable_var_name in range(initial_value,terminating_value): stmt 1 stmt 2 ...

for iterable_var_name in range(initial_value,terminating_value,updation): stmt 1 stmt 2 ...

In [16]:
# factorial
n=int(input('Enter a number '))
fact=1
for i in range(n,1,-1):
    fact=fact*i
print(n,'! =',fact)
Enter a number 5
5 ! = 120
Task 7:Write a program in Python to print all numbers from 0 to 9 except 3 and 6 using a for loop.
In [18]:
# write your code after this line
for i in range(0, 10):
  if i == 3 or i == 6:
    continue
  else:
    print("Number :", i)
Number : 0
Number : 1
Number : 2
Number : 4
Number : 5
Number : 7
Number : 8
Number : 9
2 Write a program in Python to get 10 numbers from user using a for loop. The program should print the count of positive numbers, negative numbers and zeroes entered by the user.
In [19]:
pos, neg, zero = 0, 0, 0
for i in range(10):
  n = int(input("Enter the number : "))
  if n == 0:
    zero += 1
  elif n < 0:
    neg += 1
  else:
    pos += 1
print("Negative :", neg, "\nPositive :", pos, "\nZero :", zero)
Enter the number : 5
Enter the number : 6
Enter the number : 89
Enter the number : 10
Enter the number : -12
Enter the number : -9
Enter the number : 568
Enter the number : 25
Enter the number : 2
Enter the number : 3
Negative : 2 
Positive : 8 
Zero : 0
